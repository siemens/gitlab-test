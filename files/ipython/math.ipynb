{
 "cells": [
  {
   "cell_type": "markdown",
   "metadata": {},
   "source": [
    "\\begin{aligned} \n",
    "\\begin{bmatrix} u \\\\ v \\\\ d \\end{bmatrix} &=& \n",
    "\\pi(z) \\cdot \\mathrm{K} \\cdot\n",
    "\\begin{bmatrix} x \\\\ y \\\\ z \\end{bmatrix} &=&\n",
    "\\begin{bmatrix}\\frac{1}{z} & 0 & 0\\\\0 & \\frac{1}{z} & 0\\\\0 & 0 & 1\\end{bmatrix}\n",
    "\\begin{bmatrix}f_{x} & 0 & c_{x}\\\\0 & f_{y} & c_{y}\\\\0 & 0 & 1\\end{bmatrix}\n",
    "\\begin{bmatrix} x \\\\ y \\\\ z \\end{bmatrix} &=&\n",
    "\\begin{bmatrix}\\frac{f_{x}}{z} & 0 & \\frac{c_{x}}{z}\\\\0 & \\frac{f_{y}}{z} & \\frac{c_{y}}{z}\\\\0 & 0 & 1\\end{bmatrix}\n",
    "\\begin{bmatrix} x \\\\ y \\\\ z \\end{bmatrix}\n",
    "\\end{aligned}"
   ]
  },
  {
   "cell_type": "markdown",
   "metadata": {},
   "source": [
    "Inline equation: $y = mx + b$\n",
    "\n",
    "Equation $x$ and $y$ refer to $m$ and $b$.\n",
    "\n",
    "Here is a block-level equation:\n",
    "\n",
    "$$\n",
    "y = mx + b\n",
    "$$"
   ]
  },
  {
   "cell_type": "markdown",
   "metadata": {},
   "source": [
    "Triplet $[u, v, d]^T$, where $(u, v)$ is $d$\n",
    "\n",
    "$$ s(p) = D \\cdot \\mathrm{{K}}_{{ext}} p  = [\\begin{matrix}z & i & n_{x} & n_{y} & n_{z}\\end{matrix}]^T $$"
   ]
  }
 ],
 "metadata": {
  "kernelspec": {
   "display_name": "Python 3",
   "language": "python",
   "name": "python3"
  },
  "language_info": {
   "codemirror_mode": {
    "name": "ipython",
    "version": 3
   },
   "file_extension": ".py",
   "mimetype": "text/x-python",
   "name": "python",
   "nbconvert_exporter": "python",
   "pygments_lexer": "ipython3",
   "version": "3.5.2"
  }
 },
 "nbformat": 4,
 "nbformat_minor": 2
}
