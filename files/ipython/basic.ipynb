{
  "cells": [
    {
      "cell_type": "code",
      "execution_count": 1,
      "outputs": [],
      "source": [
        "console.log('test')"
      ]
    },
    {
      "cell_type": "markdown",
      "source": [
        "# test"
      ]
    },
    {
      "cell_type": "code",
      "execution_count": 1,
      "outputs": [
        {
          "name": "stdout",
          "output_type": "stream",
          "text": [
            "testing"
          ]
        }
      ],
      "source": [
        "console.log('test')"
      ]
    },
    {
      "cell_type": "code",
      "execution_count": 1,
      "outputs": [
        {
          "data": {
            "image/png": "iVBORw0KGgoAAAANSUhEUgAAAAEAAAABCAYAAAAfFcSJAAAADUlEQVR42mNkYPhfDwAChwGA60e6kgAAAABJRU5ErkJggg=="
          }
        }
      ],
      "source": [
        "console.log('test')"
      ]
    },
    {
      "cell_type": "code",
      "execution_count": 1,
      "outputs": [
        {
          "data": {
            "text/html": [
              "<p>",
              "test",
              "</p>"
            ]
          }
        }
      ],
      "source": [
        "console.log('test')"
      ]
    },
    {
      "cell_type": "code",
      "execution_count": 1,
      "outputs": [
        {
          "data": {
            "image/svg+xml": "<svg></svg>"
          }
        }
      ],
      "source": [
        "console.log('test')"
      ]
    },
    {
      "cell_type": "code",
      "execution_count": 1,
      "outputs": [
        {
          "data": {
            "text/plain": [
              "testing"
            ]
          }
        }
      ],
      "source": [
        "console.log('test')"
      ]
    },
    {
      "cell_type": "code",
      "execution_count": 1,
      "outputs": [
        {
          "data": {
            "random/type": "a",
            "text/plain": [
              "testing"
            ]
          }
        }
      ],
      "source": [
        "console.log('test')"
      ]
    }
  ]
}
